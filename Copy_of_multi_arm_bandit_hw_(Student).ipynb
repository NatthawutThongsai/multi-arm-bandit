{
  "nbformat": 4,
  "nbformat_minor": 0,
  "metadata": {
    "kernelspec": {
      "display_name": "Python 3",
      "language": "python",
      "name": "python3"
    },
    "language_info": {
      "codemirror_mode": {
        "name": "ipython",
        "version": 3
      },
      "file_extension": ".py",
      "mimetype": "text/x-python",
      "name": "python",
      "nbconvert_exporter": "python",
      "pygments_lexer": "ipython3",
      "version": "3.6.9"
    },
    "colab": {
      "name": "Copy of multi-arm bandit hw (Student).ipynb",
      "provenance": [],
      "collapsed_sections": []
    }
  },
  "cells": [
    {
      "cell_type": "markdown",
      "metadata": {
        "id": "Ye6JQHc73J5S"
      },
      "source": [
        "# A/B Testing from Scratch: Multi-armed Bandits"
      ]
    },
    {
      "cell_type": "markdown",
      "metadata": {
        "id": "wmS6wcXx3J5S"
      },
      "source": [
        "Frequentist and Bayesian A/B tests require you to divide your traffic into arbitrary groups for a period of time, then perform statistical tests based on the results. By definition, this forces us to divert out traffic to suboptimal variations during the test period, resulting in lower overall conversion rates. On the other hand, multi-barmed bandit appraoch (MAB) dynamically adjusts the percentage of traffic shown to each variation according to how they have performed so far during the test, resulting in smaller loss in conversion rates.\n",
        "\n",
        "![Traditional A/B Test vs Multi-armed Bandits](https://github.com/cstorm125/abtestoo/blob/master/images/ab_vs_mab.png?raw=true)\n",
        "\n",
        "Source: [Automizy](https://automizy.com/blog/increase-email-course-open-rates-with-machine-learning/) via [Multi-Arm Bandits: a potential alternative to A/B tests](https://medium.com/brillio-data-science/multi-arm-bandits-a-potential-alternative-to-a-b-tests-a647d9bf2a7e)"
      ]
    },
    {
      "cell_type": "code",
      "metadata": {
        "id": "tGTZ4IN73J5S"
      },
      "source": [
        "import numpy as np\n",
        "import pandas as pd\n",
        "\n",
        "#widgets\n",
        "from ipywidgets import interact, interactive, fixed, interact_manual\n",
        "import ipywidgets as widgets\n",
        "from IPython.display import display\n",
        "\n",
        "#plots\n",
        "import matplotlib.pyplot as plt\n",
        "from plotnine import *\n",
        "\n",
        "#stats\n",
        "import scipy as sp\n",
        "import statsmodels as sm\n",
        "\n",
        "import warnings\n",
        "warnings.filterwarnings('ignore')"
      ],
      "execution_count": 2,
      "outputs": []
    },
    {
      "cell_type": "markdown",
      "metadata": {
        "id": "LZiK1eIq3J5T"
      },
      "source": [
        "## Arms, Variations, Ads, or Anything"
      ]
    },
    {
      "cell_type": "markdown",
      "metadata": {
        "id": "EPV1Kcdu3J5T"
      },
      "source": [
        "We treat serving a variation of content, be it product listings, recommended products, search results, online ads, or whatever we want to experiment on as *pulling an arm*. The arm will record an impression and, at an arbitrary amount of delay time, an action such as a click or add-to-cart based on that impression. In our example, we define our arm as a Bernoulli trial with the true probability of conversion ($\\frac{actions}{impressions}$) as `true_p`."
      ]
    },
    {
      "cell_type": "code",
      "metadata": {
        "id": "4ouRkfk83J5T"
      },
      "source": [
        "class Arm:\n",
        "    def __init__(self, true_p):\n",
        "        self.true_p = true_p\n",
        "        self.reset()\n",
        "\n",
        "    def reset(self):\n",
        "        self.impressions = 0\n",
        "        self.actions = 0\n",
        "    \n",
        "    def get_state(self):\n",
        "        return self.impressions, self.actions\n",
        "    \n",
        "    def get_rate(self):\n",
        "        return self.actions / self.impressions if self.impressions >0 else 0.\n",
        "    \n",
        "    def pull(self):\n",
        "        self.impressions+=1\n",
        "        res = 1 if np.random.random() < self.true_p else 0\n",
        "        self.actions+=res\n",
        "        return res"
      ],
      "execution_count": 3,
      "outputs": []
    },
    {
      "cell_type": "code",
      "metadata": {
        "id": "nD6esJGk3J5T",
        "colab": {
          "base_uri": "https://localhost:8080/"
        },
        "outputId": "d2fd31ee-f46c-4098-9e76-ebec64206026"
      },
      "source": [
        "a = Arm(0.1)\n",
        "for i in range(100): a.pull()\n",
        "a.get_state()"
      ],
      "execution_count": 27,
      "outputs": [
        {
          "output_type": "execute_result",
          "data": {
            "text/plain": [
              "(100, 13)"
            ]
          },
          "metadata": {
            "tags": []
          },
          "execution_count": 27
        }
      ]
    },
    {
      "cell_type": "markdown",
      "metadata": {
        "id": "js12kez83J5T"
      },
      "source": [
        "## Environment"
      ]
    },
    {
      "cell_type": "markdown",
      "metadata": {
        "id": "A29ccgwj3J5T"
      },
      "source": [
        "We simulate an environment is an arbitrary number of arms with a set of predefined true probability `true_p` and average number of rewards `avg_rewards` per time period `t`. This environment mimics most content serving APIs which display each variation at the ratio `ps` as defined by experimenters."
      ]
    },
    {
      "cell_type": "code",
      "metadata": {
        "id": "eM6xWytk3J5T"
      },
      "source": [
        "class MusketeerEnv:\n",
        "    def __init__(self, true_ps, avg_impressions):\n",
        "        self.true_ps = true_ps\n",
        "        self.avg_impressions = avg_impressions\n",
        "        self.nb_arms = len(true_ps)\n",
        "        self.reset()\n",
        "\n",
        "\n",
        "    def reset(self):\n",
        "        self.t = -1\n",
        "        self.ds=[]\n",
        "        self.arms = [Arm(p) for p in self.true_ps]\n",
        "        return self.get_state()\n",
        "\n",
        "\n",
        "    def get_state(self):\n",
        "        return [self.arms[i].get_state() for i in range(self.nb_arms)]\n",
        "\n",
        "\n",
        "    def get_rates(self):\n",
        "        return [self.arms[i].get_rate() for i in range(self.nb_arms)]\n",
        "\n",
        "\n",
        "    # sample the actual number of impressions from a triangular function\n",
        "    def get_impressions(self):    \n",
        "        return int(np.random.triangular(self.avg_impressions/2,\n",
        "                                    self.avg_impressions,\n",
        "                                    self.avg_impressions*1.5))\n",
        "    \n",
        "    # ramdomly choose arm based on a given probabiliy `ps`\n",
        "    def step(self, ps):\n",
        "        self.t += 1\n",
        "        impressions = self.get_impressions()\n",
        "        for i in np.random.choice(a=self.nb_arms,size=impressions,p=ps):\n",
        "            self.arms[i].pull()\n",
        "        self.record()\n",
        "        return self.get_state()\n",
        "\n",
        "    \n",
        "    # for logging\n",
        "    def record(self):\n",
        "        d = {'t':self.t, 'max_rate':0, 'opt_impressions':0}\n",
        "\n",
        "        for i in range(self.nb_arms):\n",
        "            d[f'impressions_{i}'],d[f'actions_{i}'] = self.arms[i].get_state()\n",
        "            d[f'rate_{i}'] = self.arms[i].get_rate()\n",
        "\n",
        "            if d[f'rate_{i}'] > d['max_rate']: \n",
        "                d['max_rate'] = d[f'rate_{i}']\n",
        "                d['opt_impressions'] = d[f'impressions_{i}']\n",
        "\n",
        "\n",
        "        d['total_impressions'] = sum([self.arms[i].impressions for i in range(self.nb_arms)])\n",
        "        d['opt_impressions_rate'] = d['opt_impressions'] / d['total_impressions']\n",
        "        d['total_actions'] = sum([self.arms[i].actions for i in range(self.nb_arms)])\n",
        "        d['total_rate'] = d['total_actions'] / d['total_impressions']\n",
        "        d['regret_rate'] = d['max_rate'] - d['total_rate']\n",
        "        d['regret'] = d['regret_rate'] * d['total_impressions']\n",
        "        self.ds.append(d)\n",
        "    \n",
        "\n",
        "    # for printting\n",
        "    def show_df(self):\n",
        "        df = pd.DataFrame(self.ds)\n",
        "        cols = ['t'] + [f'rate_{i}' for i in range(self.nb_arms)]+ \\\n",
        "               [f'impressions_{i}' for i in range(self.nb_arms)]+ \\\n",
        "               [f'actions_{i}' for i in range(self.nb_arms)]+ \\\n",
        "               ['total_impressions','total_actions','total_rate']+ \\\n",
        "               ['opt_impressions','opt_impressions_rate']+ \\\n",
        "               ['regret_rate','regret']\n",
        "        df = df[cols]\n",
        "        return df"
      ],
      "execution_count": 5,
      "outputs": []
    },
    {
      "cell_type": "markdown",
      "metadata": {
        "id": "XAA1ERpF3J5T"
      },
      "source": [
        "For instance, in a traditional A/B test with a default variation, new variation `A` and new variation `B`. We may divide 60% traffic to the default variation and 20% each to `A` and `B`. After 1,000 time steps, we will get the following results."
      ]
    },
    {
      "cell_type": "code",
      "metadata": {
        "id": "k0PwVLya3J5T",
        "colab": {
          "base_uri": "https://localhost:8080/"
        },
        "outputId": "6d857e7f-9a57-4f7e-e2b1-17747211a915"
      },
      "source": [
        "env = MusketeerEnv(true_ps = [0.1,0.12,0.13], avg_impressions=400)\n",
        "for i in range(1000):\n",
        "    env.step([0.6,0.2,0.2])\n",
        "env.get_rates()"
      ],
      "execution_count": 6,
      "outputs": [
        {
          "output_type": "execute_result",
          "data": {
            "text/plain": [
              "[0.09948990223126099, 0.11900717016014191, 0.13073123390277588]"
            ]
          },
          "metadata": {
            "tags": []
          },
          "execution_count": 6
        }
      ]
    },
    {
      "cell_type": "markdown",
      "metadata": {
        "id": "jK01Q-Xh3J5T"
      },
      "source": [
        "In order to evaluate an MAB agent, we use 3 main metrics:\n",
        "1. `opt_impressions_rate`: cumulative percentage of impressions we have given to the optimal arm at that timestep; this shows us how often we have picked the \"best\" arm\n",
        "2. `regret_rate`: cumulative conversion rate of the best arm at that timestep minus cumulative conversion rate of all impressions; this shows us the difference in conversion rate we have lost by not picking the \"best\" arm\n",
        "3. `regret`: cumulative actions if we had chosen the \"best\" arm minus actual cumulative conversions; this shows us how much actions we have lost by not picking the \"best\" arm"
      ]
    },
    {
      "cell_type": "markdown",
      "metadata": {
        "id": "SrEQ8PEE3J5U"
      },
      "source": [
        "## Agent"
      ]
    },
    {
      "cell_type": "markdown",
      "metadata": {
        "id": "BWx9TMn63J5U"
      },
      "source": [
        "An MAB agent solves the explore-vs-exploit dilemma. Exploitation means we choose what we know as the best choice at the current timestep, sometimes called being *greedy*; on the other hand, exploration means we try pulling other arms in order to know more about the environment. \n",
        "\n",
        "Exploiting 100% of the time is a bad idea. For instance; let us assume there are two arms `A` and `B` with true probabilities 0.1 and 0.9 and it happens that when we pull `A` it returns a conversion whereas when we pull `B` it does not. If our policy is to always exploit, we would end up pulling only `A` which has much lower return rate than `B`. This is when you do not have any experiment set up for your content at all.\n",
        "\n",
        "In contrast, if we always explore, we would end up pulling both arms randomly with expected return rates of $0.9 * 0.5 + 0.1 * 0.5 = 0.5$ instead of much higher if we could find out `B` is the better arm. This is close to what happens in a traditional A/B test during the test period.\n",
        "\n",
        "Some common policies for distributing impressions to each arm are:\n",
        "1. **Equal weights**: all arms have the same amount of traffic or a fixed amount.\n",
        "2. **Randomize**: randomly assign traffic to all arms.\n",
        "3. **Epsilon-greedy**: Assign a majority of traffic to the \"best\" arm at that time step, and the rest randomized among all arms; the degree of random traffic can be decayed by a parameter `gamma` as time goes on.\n",
        "4. **Softmax or Boltzmann exploration**: Assigns traffic equal to the softmax activation of their current return rates; regulated by temperature parameter `tau` (lower `tau` means less exploration) that can also be decayed by `gamma` over time.\n",
        "$$P(A_i) = \\frac{e^{rate_i/\\tau}}{\\sum{e^{rate_i/\\tau}}}$$\n",
        "\n",
        "5. **Upper Confidence Bound**: by utilizing Hoeffding’s Inequality, we can have a deterministic policy based on number of times the arms are pulled so far and impressions of each arm:\n",
        "\n",
        "$$A = argmax(rate_i + \\sqrt{\\frac{2\\log{t}}{impressions_i}})$$\n",
        "\n",
        "6. **Deterministic Thompson Sampling**: based on a posterior distribution (in our case a Beta distribution) for each arm, sample that number of rates. Choose the arm with the highest sampled rate.\n",
        "\n",
        "7. **Stochastic Thompson Sampling**: Instead of sampling only once, perform a Monte Carlo simulation for an arbitrary number of times, the traffic to each arm is divided by the percentage of times that arm is the best arm in the simulation."
      ]
    },
    {
      "cell_type": "code",
      "metadata": {
        "id": "ErFkVTSz3J5U"
      },
      "source": [
        "class BanditAgent:\n",
        "    def __init__(self):\n",
        "        pass\n",
        "    \n",
        "    #baselines\n",
        "    def equal_weights(self,state):\n",
        "        p_actions = np.array([1/len(state) for i in range(len(state))])\n",
        "        return p_actions\n",
        "\n",
        "\n",
        "    # TODO:1 : write a function that give the probability of choosing arm randomly\n",
        "    def randomize(self,state):\n",
        "        # CODE HERE\n",
        "        p_actions = np.random.rand(len(state))\n",
        "        p_actions /= p_actions.sum()\n",
        "        return p_actions\n",
        "      \n",
        "    \n",
        "    # TODO:2 : write a function that give the probability of choosing arm based on epsilon greedy policy\n",
        "    def eps_greedy(self, state, t, start_eps=0.3, end_eps=0.01, gamma=0.99):\n",
        "        # CODE HERE\n",
        "        eps = max(end_eps,start_eps * gamma**t)\n",
        "        p_actions = np.array([eps/len(state) for i in range(len(state))])\n",
        "        best_idx = np.argmax([i[1]/i[0] for i in state]) if t > 0 else np.random.choice(range(len(state)))\n",
        "        p_actions[best_idx] += 1-eps\n",
        "        return p_actions\n",
        "\n",
        "\n",
        "    # TODO:3 : write a function that give the probability of choosing arm based on softmax greedy policy\n",
        "    def softmax(self, state, t, start_tau=1e-1, end_tau=1e-4, gamma=0.9):\n",
        "        # CODE HERE\n",
        "        tau = max(end_tau,start_tau*gamma**t)\n",
        "        sum_exp = sum([np.exp(i[1]/(i[0]+1e6)/tau) for i in state])\n",
        "        p_actions = np.array([np.exp(i[1]/(i[0]+1e6)/tau) / sum_exp for i in state])\n",
        "        return p_actions\n",
        "\n",
        "\n",
        "    # TODO:4 : write a function that give the probability of choosing arm based on UCB policy\n",
        "    def ucb(self, state, t):\n",
        "        # CODE HERE\n",
        "        for i in state:\n",
        "            if i[0]==0:\n",
        "                return self.equal_weights(state)\n",
        "        res = [(i[1]/i[0] + np.sqrt(2*np.log(t+1)/i[0])) for i in state]\n",
        "        res = np.array(res)\n",
        "        p_actions = np.zeros(len(state))\n",
        "        p_actions[np.argmax(res)] = 1\n",
        "        return p_actions \n",
        "        \n",
        "    def thompson_deterministic(self, state):\n",
        "        res = [np.random.beta(i[1]+1,i[0]-i[1]+1) for i in state]\n",
        "        res = np.array(res)\n",
        "        p_actions = np.zeros(len(state))\n",
        "        p_actions[np.argmax(res)] = 1\n",
        "        return p_actions\n",
        "    \n",
        "    #thompsons\n",
        "    def thompson_one(self,state):\n",
        "        res = [np.random.beta(i[1]+1,i[0]-i[1]+1) for i in state]\n",
        "        res = np.array(res)\n",
        "        return res\n",
        "    def thompson_stochastic(self,state,n=1000):\n",
        "        l = []\n",
        "        for i in range(n): l.append(self.thompson_one(state)[None,:])\n",
        "        l = np.concatenate(l,0)\n",
        "        is_max = l.max(1)[:,None] == l\n",
        "        return is_max.mean(0)"
      ],
      "execution_count": 47,
      "outputs": []
    },
    {
      "cell_type": "markdown",
      "metadata": {
        "id": "EigAg3Ga3J5U"
      },
      "source": [
        "## Simulation Results"
      ]
    },
    {
      "cell_type": "markdown",
      "metadata": {
        "id": "1jHw-iEmlebk"
      },
      "source": [
        "We simulate 4 campaigns with true probabilities of 12%, 13%, 15% and, 16% respectively. Our number of overall impressions is 400 on average."
      ]
    },
    {
      "cell_type": "code",
      "metadata": {
        "id": "TtdMX9k33J5U",
        "colab": {
          "base_uri": "https://localhost:8080/"
        },
        "outputId": "bd9c6165-d4f7-41d8-8605-465cbb41f7fe"
      },
      "source": [
        "env = MusketeerEnv(true_ps = [0.12,0.13,0.15,0.16], avg_impressions=400)\n",
        "a = BanditAgent()\n",
        "for i in range(20):\n",
        "    p = a.equal_weights(env.get_state())\n",
        "    env.step(p)\n",
        "    t=i\n",
        "a.equal_weights(env.get_state()), a.randomize(env.get_state()), a.eps_greedy(env.get_state(),t),\\\n",
        "a.softmax(env.get_state(),t), a.thompson_stochastic(env.get_state()), \\\n",
        "a.ucb(env.get_state(),t), a.thompson_deterministic(env.get_state())"
      ],
      "execution_count": 48,
      "outputs": [
        {
          "output_type": "execute_result",
          "data": {
            "text/plain": [
              "(array([0.25, 0.25, 0.25, 0.25]),\n",
              " array([0.34123929, 0.24466685, 0.40470212, 0.00939175]),\n",
              " array([0.06196265, 0.06196265, 0.06196265, 0.81411206]),\n",
              " array([0.2491557 , 0.24967143, 0.25024423, 0.25092864]),\n",
              " array([0.   , 0.   , 0.133, 0.867]),\n",
              " array([0., 0., 0., 1.]),\n",
              " array([0., 0., 0., 1.]))"
            ]
          },
          "metadata": {
            "tags": []
          },
          "execution_count": 48
        }
      ]
    },
    {
      "cell_type": "code",
      "metadata": {
        "id": "B9uKT3NqibFg"
      },
      "source": [
        "envs = [MusketeerEnv(true_ps = [0.12,0.13,0.15,0.16], avg_impressions=400) for i in range(5)]\n",
        "a = BanditAgent()\n",
        "for t in range(250):\n",
        "    states = [env.get_state() for env in envs]\n",
        "    actions = [a.equal_weights(states[0]), a.randomize(states[1]),\n",
        "               a.eps_greedy(states[2],t), a.softmax(states[3],t),\n",
        "               a.ucb(states[4],t)]\n",
        "    \n",
        "    for i in range(5): envs[i].step(actions[i])\n",
        "\n",
        "dfs = [env.show_df() for env in envs]\n",
        "policies = ['equal_weights','randomize','eps_greedy','softmax','ucb']\n",
        "for i in range(5): dfs[i]['policy'] = policies[i]\n",
        "df = pd.concat(dfs)[['policy','t','opt_impressions_rate','regret_rate', 'regret', 'total_rate']]"
      ],
      "execution_count": 49,
      "outputs": []
    },
    {
      "cell_type": "code",
      "metadata": {
        "id": "37NTe5m1i1fH",
        "colab": {
          "base_uri": "https://localhost:8080/",
          "height": 204
        },
        "outputId": "edf6aa0f-54ba-4a66-a457-74ceb7a263c7"
      },
      "source": [
        "df_m = df.melt(id_vars=['policy','t'])\n",
        "df_m.tail()"
      ],
      "execution_count": 50,
      "outputs": [
        {
          "output_type": "execute_result",
          "data": {
            "text/html": [
              "<div>\n",
              "<style scoped>\n",
              "    .dataframe tbody tr th:only-of-type {\n",
              "        vertical-align: middle;\n",
              "    }\n",
              "\n",
              "    .dataframe tbody tr th {\n",
              "        vertical-align: top;\n",
              "    }\n",
              "\n",
              "    .dataframe thead th {\n",
              "        text-align: right;\n",
              "    }\n",
              "</style>\n",
              "<table border=\"1\" class=\"dataframe\">\n",
              "  <thead>\n",
              "    <tr style=\"text-align: right;\">\n",
              "      <th></th>\n",
              "      <th>policy</th>\n",
              "      <th>t</th>\n",
              "      <th>variable</th>\n",
              "      <th>value</th>\n",
              "    </tr>\n",
              "  </thead>\n",
              "  <tbody>\n",
              "    <tr>\n",
              "      <th>4995</th>\n",
              "      <td>ucb</td>\n",
              "      <td>245</td>\n",
              "      <td>total_rate</td>\n",
              "      <td>0.154376</td>\n",
              "    </tr>\n",
              "    <tr>\n",
              "      <th>4996</th>\n",
              "      <td>ucb</td>\n",
              "      <td>246</td>\n",
              "      <td>total_rate</td>\n",
              "      <td>0.154271</td>\n",
              "    </tr>\n",
              "    <tr>\n",
              "      <th>4997</th>\n",
              "      <td>ucb</td>\n",
              "      <td>247</td>\n",
              "      <td>total_rate</td>\n",
              "      <td>0.154258</td>\n",
              "    </tr>\n",
              "    <tr>\n",
              "      <th>4998</th>\n",
              "      <td>ucb</td>\n",
              "      <td>248</td>\n",
              "      <td>total_rate</td>\n",
              "      <td>0.154213</td>\n",
              "    </tr>\n",
              "    <tr>\n",
              "      <th>4999</th>\n",
              "      <td>ucb</td>\n",
              "      <td>249</td>\n",
              "      <td>total_rate</td>\n",
              "      <td>0.154181</td>\n",
              "    </tr>\n",
              "  </tbody>\n",
              "</table>\n",
              "</div>"
            ],
            "text/plain": [
              "     policy    t    variable     value\n",
              "4995    ucb  245  total_rate  0.154376\n",
              "4996    ucb  246  total_rate  0.154271\n",
              "4997    ucb  247  total_rate  0.154258\n",
              "4998    ucb  248  total_rate  0.154213\n",
              "4999    ucb  249  total_rate  0.154181"
            ]
          },
          "metadata": {
            "tags": []
          },
          "execution_count": 50
        }
      ]
    },
    {
      "cell_type": "code",
      "metadata": {
        "id": "Rma3OLLQ3J5U",
        "colab": {
          "base_uri": "https://localhost:8080/",
          "height": 497
        },
        "outputId": "45c350d2-3d9e-4088-cbb3-bab56af4d6ad"
      },
      "source": [
        "g = (ggplot(df_m, aes(x='t', y='value', color='policy', group='policy')) +\n",
        "    geom_line() + theme_minimal() + facet_wrap('~variable', scales='free_y'))\n",
        "g"
      ],
      "execution_count": 51,
      "outputs": [
        {
          "output_type": "display_data",
          "data": {
            "image/png": "[encoded data removed]",
            "text/plain": [
              "<Figure size 640x480 with 4 Axes>"
            ]
          },
          "metadata": {
            "tags": [],
            "needs_background": "light"
          }
        },
        {
          "output_type": "execute_result",
          "data": {
            "text/plain": [
              "<ggplot: (8786197461056)>"
            ]
          },
          "metadata": {
            "tags": []
          },
          "execution_count": 51
        }
      ]
    },
    {
      "cell_type": "markdown",
      "metadata": {
        "id": "_mp71c7TzGJ7"
      },
      "source": [
        "TODO:5 Compare the result. Which policy has the best performance ?"
      ]
    },
    {
      "cell_type": "markdown",
      "metadata": {
        "id": "b69DCo4GJrHw"
      },
      "source": [
        "ANS eps_greedy because we want low regret and high impression rate"
      ]
    },
    {
      "cell_type": "markdown",
      "metadata": {
        "id": "cSbzWUtP3J5U"
      },
      "source": [
        "## References"
      ]
    },
    {
      "cell_type": "markdown",
      "metadata": {
        "id": "9MTjc3sl3J5U"
      },
      "source": [
        "Here are some useful resources reviewed for this notebook."
      ]
    },
    {
      "cell_type": "markdown",
      "metadata": {
        "id": "PpWEMvie3J5U"
      },
      "source": [
        "- [tl;dr Bayesian A/B test](https://medium.com/hockey-stick/tl-dr-bayesian-a-b-testing-with-python-c495d375db4d)\n",
        "- [Bayesian A/B Testing: a step-by-step guide](http://www.claudiobellei.com/2017/11/02/bayesian-AB-testing/)\n",
        "- [Bayesian Coin Flips](https://www.thomasjpfan.com/2015/09/bayesian-coin-flips/)\n",
        "- [Multi-Arm Bandits: a potential alternative to A/B tests](https://medium.com/brillio-data-science/multi-arm-bandits-a-potential-alternative-to-a-b-tests-a647d9bf2a7e)\n",
        "- [Multi Armed Bandits and Exploration Strategies](https://sudeepraja.github.io/Bandits/)\n",
        "- [MAB Google](https://support.google.com/analytics/answer/2846882?hl=en)"
      ]
    }
  ]
}